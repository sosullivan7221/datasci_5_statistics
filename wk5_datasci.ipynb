{
  "nbformat": 4,
  "nbformat_minor": 0,
  "metadata": {
    "colab": {
      "provenance": [],
      "authorship_tag": "ABX9TyO5SZjoVwh3YsN6+Wdl8k5v",
      "include_colab_link": true
    },
    "kernelspec": {
      "name": "python3",
      "display_name": "Python 3"
    },
    "language_info": {
      "name": "python"
    }
  },
  "cells": [
    {
      "cell_type": "markdown",
      "metadata": {
        "id": "view-in-github",
        "colab_type": "text"
      },
      "source": [
        "<a href=\"https://colab.research.google.com/github/sosullivan7221/datasci_5_statistics/blob/main/wk5_datasci.ipynb\" target=\"_parent\"><img src=\"https://colab.research.google.com/assets/colab-badge.svg\" alt=\"Open In Colab\"/></a>"
      ]
    },
    {
      "cell_type": "markdown",
      "source": [
        "# Week 5"
      ],
      "metadata": {
        "id": "CkJvHI3B7Mar"
      }
    },
    {
      "cell_type": "markdown",
      "source": [
        "## Packages"
      ],
      "metadata": {
        "id": "PuMXAqJyRC1B"
      }
    },
    {
      "cell_type": "code",
      "source": [
        "import pandas as pd\n",
        "from scipy.stats import chi2_contingency, ttest_ind\n",
        "import statsmodels.api as sm\n",
        "import matplotlib.pyplot as plt\n",
        "from statsmodels.formula.api import ols"
      ],
      "metadata": {
        "id": "7PY1PrGpRFlh"
      },
      "execution_count": null,
      "outputs": []
    },
    {
      "cell_type": "markdown",
      "source": [
        "## Chi Square"
      ],
      "metadata": {
        "id": "vjSKp7bb7PCC"
      }
    },
    {
      "cell_type": "markdown",
      "source": [
        "This Chi-Square test will look to analyze if there is a correlation between a practice being considered a small practice (less than 15 billed physicians) and the practice being designated as a rural facility. The null hypothesis that there will be no correlation between the variables. The alternative hypothesis is that there will be a correlation between the two variables."
      ],
      "metadata": {
        "id": "b_EPudpwVQtT"
      }
    },
    {
      "cell_type": "code",
      "source": [
        "df1 = pd.read_csv('/content/2021_puf_QPPAR-18260_small.csv')\n",
        "\n",
        "contingency_table = pd.crosstab(df1['rural clinician'], df1['small practitioner'])\n",
        "print(contingency_table)"
      ],
      "metadata": {
        "id": "01l6oTzf7Lhb",
        "colab": {
          "base_uri": "https://localhost:8080/"
        },
        "outputId": "efd2bb3f-f47a-4a84-d34a-a52c8860055e"
      },
      "execution_count": null,
      "outputs": [
        {
          "output_type": "stream",
          "name": "stderr",
          "text": [
            "<ipython-input-7-233a1d32f959>:1: DtypeWarning: Columns (1,3,6,7,11,12,13,14,15,16,17,18,19,23,26,27,29,31,33,35,37,39,41,43,45,48,49,50,51,52,53,55,57,59,61,63,65,76,77,78,80,82,84,87) have mixed types. Specify dtype option on import or set low_memory=False.\n",
            "  df1 = pd.read_csv('/content/2021_puf_QPPAR-18260_small.csv')\n"
          ]
        },
        {
          "output_type": "stream",
          "name": "stdout",
          "text": [
            "small practitioner  False  True \n",
            "rural clinician                 \n",
            "False               29872   5263\n",
            "True                 4186   1062\n"
          ]
        }
      ]
    },
    {
      "cell_type": "code",
      "source": [
        "chi2, p, _, _ = chi2_contingency(contingency_table)\n",
        "print(f\"Chi2 value: {chi2}\")\n",
        "print(f\"P-value: {p}\")"
      ],
      "metadata": {
        "colab": {
          "base_uri": "https://localhost:8080/"
        },
        "id": "rsYFNUMiaTez",
        "outputId": "f99bfc93-921b-4ea9-b882-e6dbd03293cc"
      },
      "execution_count": null,
      "outputs": [
        {
          "output_type": "stream",
          "name": "stdout",
          "text": [
            "Chi2 value: 95.12691520663529\n",
            "P-value: 1.7856237057933652e-22\n"
          ]
        }
      ]
    },
    {
      "cell_type": "markdown",
      "source": [
        "Analysis: Due to the Chi2 and P values, we would reject the null hypothesis here and accept our alternative hypothesis, meaning there is a significant correlation between small practices and rural practices. We see when looking at the values that there are close to 30,000 practices that are neither small facilities nor rural facilities, likely being the reasoning for the significant findings."
      ],
      "metadata": {
        "id": "cmNIXqB5W_Xz"
      }
    },
    {
      "cell_type": "markdown",
      "source": [
        "## T-Test"
      ],
      "metadata": {
        "id": "z0Bl1TXV7WVy"
      }
    },
    {
      "cell_type": "markdown",
      "source": [
        "This T-test is to look at the relationship between facilities in the east and west halves of the United States in comparison to the number of medicare patients they see. The null hypothesis is that region will have no effect on number medicare patients. The alterantive hypothesis is that region will have an effect on the number of medicare patients."
      ],
      "metadata": {
        "id": "X71lLZ00Etpb"
      }
    },
    {
      "cell_type": "code",
      "execution_count": null,
      "metadata": {
        "id": "ucdMvavz7Hkp",
        "colab": {
          "base_uri": "https://localhost:8080/"
        },
        "outputId": "b78d5d4a-b39a-42b5-d967-35fe32e07266"
      },
      "outputs": [
        {
          "output_type": "stream",
          "name": "stderr",
          "text": [
            "<ipython-input-33-59b91b019e1d>:1: DtypeWarning: Columns (1,3,6,7,11,12,13,14,15,16,17,18,19,23,26,27,29,31,33,35,37,39,41,43,45,48,49,50,51,52,53,55,57,59,61,63,65,76,77,78,80,82,84,87) have mixed types. Specify dtype option on import or set low_memory=False.\n",
            "  df4 = pd.read_csv('/content/2021_puf_QPPAR-18260_small.csv')\n"
          ]
        }
      ],
      "source": [
        "df4 = pd.read_csv('/content/2021_puf_QPPAR-18260_small.csv')\n",
        "\n",
        "df4['region'] = df4['practice state or us territory'].apply(lambda x: 'west' if x in ['WA', 'OR', 'CA', 'NV', 'ID', 'MT', 'WY', 'UT', 'AZ', 'NM', 'CO', 'ND', 'SD', 'NE', 'KS', 'OK', 'TX', 'AK', 'HI'] else 'east')\n"
      ]
    },
    {
      "cell_type": "code",
      "source": [
        "western_data = df4[df4['region'] == 'west']['medicare patients']\n",
        "eastern_data = df4[df4['region'] == 'east']['medicare patients']\n",
        "\n",
        "western_data_clean = western_data.dropna()\n",
        "eastern_data_clean = eastern_data.dropna()\n",
        "\n",
        "t_stat, p_val = ttest_ind(western_data_clean, eastern_data_clean, equal_var=False)\n",
        "\n",
        "print(f\"T-statistic: {t_stat}\")\n",
        "print(f\"P-value: {p_val}\")"
      ],
      "metadata": {
        "colab": {
          "base_uri": "https://localhost:8080/"
        },
        "id": "Rr6uMbP3FODS",
        "outputId": "1ff2ee9e-d7b7-4907-fc99-6a95dc531d0e"
      },
      "execution_count": null,
      "outputs": [
        {
          "output_type": "stream",
          "name": "stdout",
          "text": [
            "T-statistic: -13.07495432242527\n",
            "P-value: 6.234443994484333e-39\n"
          ]
        }
      ]
    },
    {
      "cell_type": "code",
      "source": [
        "western_data_clean_mean = western_data_clean.mean()\n",
        "eastern_data_clean_mean = eastern_data_clean.mean()\n",
        "\n",
        "print(f\"Mean prevalence for western states: {western_data_clean_mean}\")\n",
        "print(f\"Mean prevalence for eastern states: {eastern_data_clean_mean}\")"
      ],
      "metadata": {
        "colab": {
          "base_uri": "https://localhost:8080/"
        },
        "id": "7HtMM74LGojT",
        "outputId": "cf6c6b41-9a89-44cd-bdaf-8159a243a4e7"
      },
      "execution_count": null,
      "outputs": [
        {
          "output_type": "stream",
          "name": "stdout",
          "text": [
            "Mean prevalence for western states: 26836.430411052363\n",
            "Mean prevalence for eastern states: 32972.36183131521\n"
          ]
        }
      ]
    },
    {
      "cell_type": "markdown",
      "source": [
        "Analysis: The T statistic and P-value show that there is a significant relationship between number of medicare patients and region. Looking at the mean prevalence values, the states in the eastern region had around 2,000 more medicare patients per facility than states in the west. This is confirmed by the very small p value, which is less than .05."
      ],
      "metadata": {
        "id": "QaNd_nlc-rqN"
      }
    },
    {
      "cell_type": "markdown",
      "source": [
        "## Anova"
      ],
      "metadata": {
        "id": "9sIzFa-L77mC"
      }
    },
    {
      "cell_type": "markdown",
      "source": [
        "This Anova test to look at the relationship between the percentage of medicare users who used a telehealth service and both the quarter of the year in which the data was recorded and the geographic state of the practice. The null hypothesis is that these variables will have no effect on usage percentage of telehealth services. The alternative hypothesis is that these variables will have an effect on usage percentage of telehealth services."
      ],
      "metadata": {
        "id": "POSHpx2LrShU"
      }
    },
    {
      "cell_type": "code",
      "source": [
        "df3 = pd.read_csv('/content/TMEDTREND_PUBLIC_230821_small.csv')\n",
        "\n",
        "model = ols('Pct_Telehealth ~ C(quarter) * C(Bene_Geo_Desc)', data=df3).fit()\n",
        "\n",
        "anova_table = sm.stats.anova_lm(model, typ=2)\n",
        "\n",
        "print(anova_table)"
      ],
      "metadata": {
        "id": "I5BG5fDF_ne6",
        "colab": {
          "base_uri": "https://localhost:8080/"
        },
        "outputId": "f5225b40-6ab0-4769-e46b-736557d36935"
      },
      "execution_count": null,
      "outputs": [
        {
          "output_type": "stream",
          "name": "stdout",
          "text": [
            "                                sum_sq      df            F         PR(>F)\n",
            "C(quarter)                   87.189228     3.0  8758.585484   0.000000e+00\n",
            "C(Bene_Geo_Desc)             18.784025    55.0   102.924407   0.000000e+00\n",
            "C(quarter):C(Bene_Geo_Desc)   5.820544   165.0    10.630949  2.972539e-208\n",
            "Residual                     13.531777  4078.0          NaN            NaN\n"
          ]
        },
        {
          "output_type": "stream",
          "name": "stderr",
          "text": [
            "/usr/local/lib/python3.10/dist-packages/statsmodels/base/model.py:1888: ValueWarning: covariance of constraints does not have full rank. The number of constraints is 55, but rank is 51\n",
            "  warnings.warn('covariance of constraints does not have full '\n",
            "/usr/local/lib/python3.10/dist-packages/statsmodels/base/model.py:1888: ValueWarning: covariance of constraints does not have full rank. The number of constraints is 165, but rank is 162\n",
            "  warnings.warn('covariance of constraints does not have full '\n"
          ]
        }
      ]
    },
    {
      "cell_type": "code",
      "source": [
        "df3.groupby('quarter')['Pct_Telehealth'].mean()"
      ],
      "metadata": {
        "colab": {
          "base_uri": "https://localhost:8080/"
        },
        "id": "pSWRxeSP4aIE",
        "outputId": "deb597b2-1fea-47ce-c38f-39ff2f6fa923"
      },
      "execution_count": null,
      "outputs": [
        {
          "output_type": "execute_result",
          "data": {
            "text/plain": [
              "quarter\n",
              "1.0    0.072816\n",
              "2.0    0.475124\n",
              "3.0    0.295166\n",
              "4.0    0.296333\n",
              "Name: Pct_Telehealth, dtype: float64"
            ]
          },
          "metadata": {},
          "execution_count": 24
        }
      ]
    },
    {
      "cell_type": "code",
      "source": [
        "df3.groupby('Bene_Geo_Desc')['Pct_Telehealth'].mean()"
      ],
      "metadata": {
        "colab": {
          "base_uri": "https://localhost:8080/"
        },
        "id": "ANjME6zQ4lyC",
        "outputId": "b42e596a-4b61-41e0-b48e-76ba444768c3"
      },
      "execution_count": null,
      "outputs": [
        {
          "output_type": "execute_result",
          "data": {
            "text/plain": [
              "Bene_Geo_Desc\n",
              "Alabama                 0.225734\n",
              "Alaska                  0.314518\n",
              "Arizona                 0.324067\n",
              "Arkansas                0.219401\n",
              "California              0.387675\n",
              "Colorado                0.292838\n",
              "Connecticut             0.367074\n",
              "Delaware                0.382203\n",
              "District Of Columbia    0.364326\n",
              "Florida                 0.277576\n",
              "Georgia                 0.229700\n",
              "Hawaii                  0.316753\n",
              "Idaho                   0.211021\n",
              "Illinois                0.282975\n",
              "Indiana                 0.266799\n",
              "Iowa                    0.226225\n",
              "Kansas                  0.192814\n",
              "Kentucky                0.275607\n",
              "Louisiana               0.236267\n",
              "Maine                   0.291238\n",
              "Maryland                0.360580\n",
              "Massachusetts           0.465038\n",
              "Michigan                0.295955\n",
              "Minnesota               0.355880\n",
              "Missing Data                 NaN\n",
              "Mississippi             0.226218\n",
              "Missouri                0.215701\n",
              "Montana                 0.191103\n",
              "National                0.313209\n",
              "Nebraska                0.180408\n",
              "Nevada                  0.284489\n",
              "New Hampshire           0.359039\n",
              "New Jersey              0.331837\n",
              "New Mexico              0.349957\n",
              "New York                0.330061\n",
              "North Carolina          0.246550\n",
              "North Dakota            0.175916\n",
              "Ohio                    0.284812\n",
              "Oklahoma                0.239563\n",
              "Oregon                  0.310453\n",
              "Pennsylvania            0.307887\n",
              "Puerto Rico             0.225675\n",
              "Rhode Island            0.409104\n",
              "South Carolina          0.207216\n",
              "South Dakota            0.215186\n",
              "Tennessee               0.173446\n",
              "Territories             0.071800\n",
              "Texas                   0.318908\n",
              "Utah                    0.254222\n",
              "Vermont                 0.383859\n",
              "Virgin Islands          0.172950\n",
              "Virginia                0.271268\n",
              "Washington              0.264021\n",
              "West Virginia           0.261397\n",
              "Wisconsin               0.257989\n",
              "Wyoming                 0.206282\n",
              "Name: Pct_Telehealth, dtype: float64"
            ]
          },
          "metadata": {},
          "execution_count": 28
        }
      ]
    },
    {
      "cell_type": "markdown",
      "source": [
        "Analysis: The results of this Anova test show a signficant relationship between our two variables of yearly quarter and state. This data is from 2020, and we can see why there would be a significant change based on quarter when looking at the data. The mean percent of telehealth usage significantly increased during quarter 2 (April-June), likely due to the COVID-19 pandemic and the increased utilization of teleheath after this time period."
      ],
      "metadata": {
        "id": "gs3DmY9k4thr"
      }
    },
    {
      "cell_type": "markdown",
      "source": [
        "## Regression"
      ],
      "metadata": {
        "id": "8J1lkh-b8oCj"
      }
    },
    {
      "cell_type": "markdown",
      "source": [
        "This regression test will look to analyze the relationship between staff COVID-19 rates and staff COVID-19 vaccination rates in nursing facilities. The null hypothesis is that there will be no relationship between these two variables. The alternative hypothesis is that there will be a relationship between these two variables."
      ],
      "metadata": {
        "id": "YkRGDY0RbONi"
      }
    },
    {
      "cell_type": "code",
      "source": [
        "df2 = pd.read_csv('/content/covid_data_small_2021.csv')\n",
        "\n",
        "df2 = df2[['Staff Total Confirmed COVID-19', 'Percentage of Current Healthcare Personnel who Received a Completed COVID-19 Vaccination at Any Time']]\n",
        "\n",
        "df2_clean = df2.dropna()\n"
      ],
      "metadata": {
        "id": "zC9JK6rl_mu6",
        "colab": {
          "base_uri": "https://localhost:8080/"
        },
        "outputId": "d575aa75-fca2-45e0-bb02-5956090287d4"
      },
      "execution_count": null,
      "outputs": [
        {
          "output_type": "stream",
          "name": "stderr",
          "text": [
            "<ipython-input-15-078145665b94>:1: DtypeWarning: Columns (0,1,2,3,4,5,8,9,10) have mixed types. Specify dtype option on import or set low_memory=False.\n",
            "  df2 = pd.read_csv('/content/covid_data_small_2021.csv')\n"
          ]
        }
      ]
    },
    {
      "cell_type": "code",
      "source": [
        "X = df2_clean['Percentage of Current Healthcare Personnel who Received a Completed COVID-19 Vaccination at Any Time']\n",
        "y = df2_clean['Staff Total Confirmed COVID-19']\n",
        "\n",
        "model = sm.OLS(y, X).fit()\n",
        "\n",
        "print(model.summary())"
      ],
      "metadata": {
        "colab": {
          "base_uri": "https://localhost:8080/"
        },
        "id": "4eOT4n_acxda",
        "outputId": "1049cab0-1ab6-42a5-bda4-2892942aaf2d"
      },
      "execution_count": null,
      "outputs": [
        {
          "output_type": "stream",
          "name": "stdout",
          "text": [
            "                                       OLS Regression Results                                      \n",
            "===================================================================================================\n",
            "Dep. Variable:     Staff Total Confirmed COVID-19   R-squared (uncentered):                   0.673\n",
            "Model:                                        OLS   Adj. R-squared (uncentered):              0.673\n",
            "Method:                             Least Squares   F-statistic:                          6.002e+04\n",
            "Date:                            Fri, 13 Oct 2023   Prob (F-statistic):                        0.00\n",
            "Time:                                    19:38:57   Log-Likelihood:                     -1.4391e+05\n",
            "No. Observations:                           29224   AIC:                                  2.878e+05\n",
            "Df Residuals:                               29223   BIC:                                  2.878e+05\n",
            "Df Model:                                       1                                                  \n",
            "Covariance Type:                        nonrobust                                                  \n",
            "========================================================================================================================================================================\n",
            "                                                                                                           coef    std err          t      P>|t|      [0.025      0.975]\n",
            "------------------------------------------------------------------------------------------------------------------------------------------------------------------------\n",
            "Percentage of Current Healthcare Personnel who Received a Completed COVID-19 Vaccination at Any Time     0.6312      0.003    244.998      0.000       0.626       0.636\n",
            "==============================================================================\n",
            "Omnibus:                     2934.021   Durbin-Watson:                   0.081\n",
            "Prob(Omnibus):                  0.000   Jarque-Bera (JB):             4256.019\n",
            "Skew:                           0.780   Prob(JB):                         0.00\n",
            "Kurtosis:                       4.031   Cond. No.                         1.00\n",
            "==============================================================================\n",
            "\n",
            "Notes:\n",
            "[1] R² is computed without centering (uncentered) since the model does not contain a constant.\n",
            "[2] Standard Errors assume that the covariance matrix of the errors is correctly specified.\n"
          ]
        }
      ]
    },
    {
      "cell_type": "code",
      "source": [
        "plt.scatter(df2_clean['Percentage of Current Healthcare Personnel who Received a Completed COVID-19 Vaccination at Any Time'], df2_clean['Staff Total Confirmed COVID-19'], label='Data Points')\n",
        "plt.plot(df2_clean['Percentage of Current Healthcare Personnel who Received a Completed COVID-19 Vaccination at Any Time'], model.predict(X), color='blue', label='Regression Line')\n",
        "plt.xlabel('Percentage of Current Healthcare Personnel who Received a Completed COVID-19 Vaccination at Any Time')\n",
        "plt.ylabel('Staff Total Confirmed COVID-19')\n",
        "plt.title('Relationship between Staff Vaccination and Staff COVID-19 Postive Cases')\n",
        "plt.legend()\n",
        "plt.show()"
      ],
      "metadata": {
        "colab": {
          "base_uri": "https://localhost:8080/",
          "height": 472
        },
        "id": "6bUmEBJcdHNS",
        "outputId": "a8ff3578-4bfc-448f-fd3e-9aad5962f689"
      },
      "execution_count": null,
      "outputs": [
        {
          "output_type": "display_data",
          "data": {
            "text/plain": [
              "<Figure size 640x480 with 1 Axes>"
            ],
            "image/png": "[encoded data removed]"
          },
          "metadata": {}
        }
      ]
    },
    {
      "cell_type": "markdown",
      "source": [
        "Analysis: Looking at the graph, there seems to be a small positive correlation between the percentage of vaccinated staff and the amount of confirmed COVID-19 cases. While this is an unexpected result, as we would expect to find a negative correlation between these variables, there are two reasons that could explain it.\n",
        "\n",
        "First, the total cases does not account for unique staff, so it is likely that a single staff member could have tested positive for covid multiple times within one year, while each staff member can only count one time towards vaccination status.\n",
        "\n",
        "Second, the graph doesnt consider the time in which the cases occured and when the vaccination was received. The staff members could have received the vaccination after they had tested positive previously. Without the dates, it may show that the vaccination did not prevent the staff member from contracting covid, however the addition of time may give a more accurate insight into the effectiveness of the vaccination on positive cases."
      ],
      "metadata": {
        "id": "pbfAYqYolSYT"
      }
    }
  ]
}